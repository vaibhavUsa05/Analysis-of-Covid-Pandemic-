{
 "cells": [
  {
   "cell_type": "code",
   "execution_count": 3,
   "id": "76e1c0ed",
   "metadata": {},
   "outputs": [],
   "source": [
    "import numpy as np\n",
    "import pandas as pd\n",
    "from matplotlib import pyplot as plt\n",
    "import seaborn as sns"
   ]
  },
  {
   "cell_type": "code",
   "execution_count": 4,
   "id": "c4936c15",
   "metadata": {},
   "outputs": [
    {
     "data": {
      "text/html": [
       "<div>\n",
       "<style scoped>\n",
       "    .dataframe tbody tr th:only-of-type {\n",
       "        vertical-align: middle;\n",
       "    }\n",
       "\n",
       "    .dataframe tbody tr th {\n",
       "        vertical-align: top;\n",
       "    }\n",
       "\n",
       "    .dataframe thead th {\n",
       "        text-align: right;\n",
       "    }\n",
       "</style>\n",
       "<table border=\"1\" class=\"dataframe\">\n",
       "  <thead>\n",
       "    <tr style=\"text-align: right;\">\n",
       "      <th></th>\n",
       "      <th>Date</th>\n",
       "      <th>State</th>\n",
       "      <th>Region</th>\n",
       "      <th>Confirmed</th>\n",
       "      <th>Deaths</th>\n",
       "      <th>Recovered</th>\n",
       "    </tr>\n",
       "  </thead>\n",
       "  <tbody>\n",
       "    <tr>\n",
       "      <th>0</th>\n",
       "      <td>4/29/2020</td>\n",
       "      <td>NaN</td>\n",
       "      <td>Afghanistan</td>\n",
       "      <td>1939</td>\n",
       "      <td>60</td>\n",
       "      <td>252</td>\n",
       "    </tr>\n",
       "    <tr>\n",
       "      <th>1</th>\n",
       "      <td>4/29/2020</td>\n",
       "      <td>NaN</td>\n",
       "      <td>Albania</td>\n",
       "      <td>766</td>\n",
       "      <td>30</td>\n",
       "      <td>455</td>\n",
       "    </tr>\n",
       "    <tr>\n",
       "      <th>2</th>\n",
       "      <td>4/29/2020</td>\n",
       "      <td>NaN</td>\n",
       "      <td>Algeria</td>\n",
       "      <td>3848</td>\n",
       "      <td>444</td>\n",
       "      <td>1702</td>\n",
       "    </tr>\n",
       "    <tr>\n",
       "      <th>3</th>\n",
       "      <td>4/29/2020</td>\n",
       "      <td>NaN</td>\n",
       "      <td>Andorra</td>\n",
       "      <td>743</td>\n",
       "      <td>42</td>\n",
       "      <td>423</td>\n",
       "    </tr>\n",
       "    <tr>\n",
       "      <th>4</th>\n",
       "      <td>4/29/2020</td>\n",
       "      <td>NaN</td>\n",
       "      <td>Angola</td>\n",
       "      <td>27</td>\n",
       "      <td>2</td>\n",
       "      <td>7</td>\n",
       "    </tr>\n",
       "    <tr>\n",
       "      <th>5</th>\n",
       "      <td>4/29/2020</td>\n",
       "      <td>NaN</td>\n",
       "      <td>Antigua and Barbuda</td>\n",
       "      <td>24</td>\n",
       "      <td>3</td>\n",
       "      <td>11</td>\n",
       "    </tr>\n",
       "    <tr>\n",
       "      <th>6</th>\n",
       "      <td>4/29/2020</td>\n",
       "      <td>NaN</td>\n",
       "      <td>Argentina</td>\n",
       "      <td>4285</td>\n",
       "      <td>214</td>\n",
       "      <td>1192</td>\n",
       "    </tr>\n",
       "    <tr>\n",
       "      <th>7</th>\n",
       "      <td>4/29/2020</td>\n",
       "      <td>NaN</td>\n",
       "      <td>Armenia</td>\n",
       "      <td>1932</td>\n",
       "      <td>30</td>\n",
       "      <td>900</td>\n",
       "    </tr>\n",
       "    <tr>\n",
       "      <th>8</th>\n",
       "      <td>4/29/2020</td>\n",
       "      <td>NaN</td>\n",
       "      <td>Austria</td>\n",
       "      <td>15402</td>\n",
       "      <td>580</td>\n",
       "      <td>12779</td>\n",
       "    </tr>\n",
       "    <tr>\n",
       "      <th>9</th>\n",
       "      <td>4/29/2020</td>\n",
       "      <td>NaN</td>\n",
       "      <td>Azerbaijan</td>\n",
       "      <td>1766</td>\n",
       "      <td>23</td>\n",
       "      <td>1267</td>\n",
       "    </tr>\n",
       "  </tbody>\n",
       "</table>\n",
       "</div>"
      ],
      "text/plain": [
       "        Date State               Region  Confirmed  Deaths  Recovered\n",
       "0  4/29/2020   NaN          Afghanistan       1939      60        252\n",
       "1  4/29/2020   NaN              Albania        766      30        455\n",
       "2  4/29/2020   NaN              Algeria       3848     444       1702\n",
       "3  4/29/2020   NaN              Andorra        743      42        423\n",
       "4  4/29/2020   NaN               Angola         27       2          7\n",
       "5  4/29/2020   NaN  Antigua and Barbuda         24       3         11\n",
       "6  4/29/2020   NaN            Argentina       4285     214       1192\n",
       "7  4/29/2020   NaN              Armenia       1932      30        900\n",
       "8  4/29/2020   NaN              Austria      15402     580      12779\n",
       "9  4/29/2020   NaN           Azerbaijan       1766      23       1267"
      ]
     },
     "execution_count": 4,
     "metadata": {},
     "output_type": "execute_result"
    }
   ],
   "source": [
    "df=pd.read_csv(\"covid_19_data.csv\")\n",
    "df.head(10)"
   ]
  },
  {
   "cell_type": "code",
   "execution_count": 24,
   "id": "637f4e62",
   "metadata": {},
   "outputs": [
    {
     "data": {
      "text/plain": [
       "Date           0\n",
       "State        181\n",
       "Region         0\n",
       "Confirmed      0\n",
       "Deaths         0\n",
       "Recovered      0\n",
       "dtype: int64"
      ]
     },
     "execution_count": 24,
     "metadata": {},
     "output_type": "execute_result"
    }
   ],
   "source": [
    "df.isnull().sum()"
   ]
  },
  {
   "cell_type": "code",
   "execution_count": 26,
   "id": "928d1fb1",
   "metadata": {},
   "outputs": [
    {
     "name": "stdout",
     "output_type": "stream",
     "text": [
      "<class 'pandas.core.frame.DataFrame'>\n",
      "RangeIndex: 321 entries, 0 to 320\n",
      "Data columns (total 6 columns):\n",
      " #   Column     Non-Null Count  Dtype \n",
      "---  ------     --------------  ----- \n",
      " 0   Date       321 non-null    object\n",
      " 1   State      140 non-null    object\n",
      " 2   Region     321 non-null    object\n",
      " 3   Confirmed  321 non-null    int64 \n",
      " 4   Deaths     321 non-null    int64 \n",
      " 5   Recovered  321 non-null    int64 \n",
      "dtypes: int64(3), object(3)\n",
      "memory usage: 15.2+ KB\n"
     ]
    }
   ],
   "source": [
    "df.info()"
   ]
  },
  {
   "cell_type": "code",
   "execution_count": 50,
   "id": "361330d7",
   "metadata": {},
   "outputs": [
    {
     "data": {
      "text/plain": [
       "(321, 6)"
      ]
     },
     "execution_count": 50,
     "metadata": {},
     "output_type": "execute_result"
    }
   ],
   "source": [
    "df.shape"
   ]
  },
  {
   "cell_type": "code",
   "execution_count": 49,
   "id": "71653115",
   "metadata": {},
   "outputs": [
    {
     "data": {
      "text/plain": [
       "0"
      ]
     },
     "execution_count": 49,
     "metadata": {},
     "output_type": "execute_result"
    }
   ],
   "source": [
    "df.duplicated().sum()"
   ]
  },
  {
   "cell_type": "code",
   "execution_count": 55,
   "id": "0763c7ff",
   "metadata": {},
   "outputs": [
    {
     "data": {
      "text/plain": [
       "(321, 5)"
      ]
     },
     "execution_count": 55,
     "metadata": {},
     "output_type": "execute_result"
    }
   ],
   "source": [
    "df.shape"
   ]
  },
  {
   "cell_type": "code",
   "execution_count": null,
   "id": "b95100bb",
   "metadata": {},
   "outputs": [],
   "source": [
    "#  Show the number of Confirmed, Recovered cases in each Region."
   ]
  },
  {
   "cell_type": "code",
   "execution_count": 58,
   "id": "09614f0b",
   "metadata": {},
   "outputs": [
    {
     "data": {
      "text/html": [
       "<div>\n",
       "<style scoped>\n",
       "    .dataframe tbody tr th:only-of-type {\n",
       "        vertical-align: middle;\n",
       "    }\n",
       "\n",
       "    .dataframe tbody tr th {\n",
       "        vertical-align: top;\n",
       "    }\n",
       "\n",
       "    .dataframe thead th {\n",
       "        text-align: right;\n",
       "    }\n",
       "</style>\n",
       "<table border=\"1\" class=\"dataframe\">\n",
       "  <thead>\n",
       "    <tr style=\"text-align: right;\">\n",
       "      <th></th>\n",
       "      <th>Confirmed</th>\n",
       "      <th>Recovered</th>\n",
       "    </tr>\n",
       "    <tr>\n",
       "      <th>Region</th>\n",
       "      <th></th>\n",
       "      <th></th>\n",
       "    </tr>\n",
       "  </thead>\n",
       "  <tbody>\n",
       "    <tr>\n",
       "      <th>Afghanistan</th>\n",
       "      <td>1939</td>\n",
       "      <td>252</td>\n",
       "    </tr>\n",
       "    <tr>\n",
       "      <th>Albania</th>\n",
       "      <td>766</td>\n",
       "      <td>455</td>\n",
       "    </tr>\n",
       "    <tr>\n",
       "      <th>Algeria</th>\n",
       "      <td>3848</td>\n",
       "      <td>1702</td>\n",
       "    </tr>\n",
       "    <tr>\n",
       "      <th>Andorra</th>\n",
       "      <td>743</td>\n",
       "      <td>423</td>\n",
       "    </tr>\n",
       "    <tr>\n",
       "      <th>Angola</th>\n",
       "      <td>27</td>\n",
       "      <td>7</td>\n",
       "    </tr>\n",
       "  </tbody>\n",
       "</table>\n",
       "</div>"
      ],
      "text/plain": [
       "             Confirmed  Recovered\n",
       "Region                           \n",
       "Afghanistan       1939        252\n",
       "Albania            766        455\n",
       "Algeria           3848       1702\n",
       "Andorra            743        423\n",
       "Angola              27          7"
      ]
     },
     "execution_count": 58,
     "metadata": {},
     "output_type": "execute_result"
    }
   ],
   "source": [
    "df_region=df.groupby(\"Region\")[[\"Confirmed\",\"Recovered\"]].sum().head()\n",
    "df_region\n"
   ]
  },
  {
   "cell_type": "code",
   "execution_count": 46,
   "id": "bb831b48",
   "metadata": {},
   "outputs": [
    {
     "data": {
      "text/plain": [
       "(140, 6)"
      ]
     },
     "execution_count": 46,
     "metadata": {},
     "output_type": "execute_result"
    }
   ],
   "source": [
    "df.shape"
   ]
  },
  {
   "cell_type": "code",
   "execution_count": null,
   "id": "c58e576a",
   "metadata": {},
   "outputs": [],
   "source": [
    "# Remove all the records where the Confirmed Cases is Less Than or equalto 10.\n"
   ]
  },
  {
   "cell_type": "code",
   "execution_count": 62,
   "id": "80d358f6",
   "metadata": {},
   "outputs": [
    {
     "data": {
      "text/html": [
       "<div>\n",
       "<style scoped>\n",
       "    .dataframe tbody tr th:only-of-type {\n",
       "        vertical-align: middle;\n",
       "    }\n",
       "\n",
       "    .dataframe tbody tr th {\n",
       "        vertical-align: top;\n",
       "    }\n",
       "\n",
       "    .dataframe thead th {\n",
       "        text-align: right;\n",
       "    }\n",
       "</style>\n",
       "<table border=\"1\" class=\"dataframe\">\n",
       "  <thead>\n",
       "    <tr style=\"text-align: right;\">\n",
       "      <th></th>\n",
       "      <th>Date</th>\n",
       "      <th>Region</th>\n",
       "      <th>Confirmed</th>\n",
       "      <th>Deaths</th>\n",
       "      <th>Recovered</th>\n",
       "    </tr>\n",
       "  </thead>\n",
       "  <tbody>\n",
       "    <tr>\n",
       "      <th>18</th>\n",
       "      <td>4/29/2020</td>\n",
       "      <td>Bhutan</td>\n",
       "      <td>7</td>\n",
       "      <td>0</td>\n",
       "      <td>5</td>\n",
       "    </tr>\n",
       "    <tr>\n",
       "      <th>59</th>\n",
       "      <td>4/29/2020</td>\n",
       "      <td>Gambia</td>\n",
       "      <td>10</td>\n",
       "      <td>1</td>\n",
       "      <td>8</td>\n",
       "    </tr>\n",
       "    <tr>\n",
       "      <th>70</th>\n",
       "      <td>4/29/2020</td>\n",
       "      <td>Holy See</td>\n",
       "      <td>10</td>\n",
       "      <td>0</td>\n",
       "      <td>2</td>\n",
       "    </tr>\n",
       "    <tr>\n",
       "      <th>98</th>\n",
       "      <td>4/29/2020</td>\n",
       "      <td>MS Zaandam</td>\n",
       "      <td>9</td>\n",
       "      <td>2</td>\n",
       "      <td>0</td>\n",
       "    </tr>\n",
       "    <tr>\n",
       "      <th>105</th>\n",
       "      <td>4/29/2020</td>\n",
       "      <td>Mauritania</td>\n",
       "      <td>8</td>\n",
       "      <td>1</td>\n",
       "      <td>6</td>\n",
       "    </tr>\n",
       "    <tr>\n",
       "      <th>126</th>\n",
       "      <td>4/29/2020</td>\n",
       "      <td>Papua New Guinea</td>\n",
       "      <td>8</td>\n",
       "      <td>0</td>\n",
       "      <td>0</td>\n",
       "    </tr>\n",
       "    <tr>\n",
       "      <th>140</th>\n",
       "      <td>4/29/2020</td>\n",
       "      <td>Sao Tome and Principe</td>\n",
       "      <td>8</td>\n",
       "      <td>0</td>\n",
       "      <td>4</td>\n",
       "    </tr>\n",
       "    <tr>\n",
       "      <th>156</th>\n",
       "      <td>4/29/2020</td>\n",
       "      <td>Suriname</td>\n",
       "      <td>10</td>\n",
       "      <td>1</td>\n",
       "      <td>8</td>\n",
       "    </tr>\n",
       "    <tr>\n",
       "      <th>177</th>\n",
       "      <td>4/29/2020</td>\n",
       "      <td>Western Sahara</td>\n",
       "      <td>6</td>\n",
       "      <td>0</td>\n",
       "      <td>5</td>\n",
       "    </tr>\n",
       "    <tr>\n",
       "      <th>178</th>\n",
       "      <td>4/29/2020</td>\n",
       "      <td>Yemen</td>\n",
       "      <td>6</td>\n",
       "      <td>0</td>\n",
       "      <td>1</td>\n",
       "    </tr>\n",
       "    <tr>\n",
       "      <th>184</th>\n",
       "      <td>4/29/2020</td>\n",
       "      <td>UK</td>\n",
       "      <td>3</td>\n",
       "      <td>0</td>\n",
       "      <td>3</td>\n",
       "    </tr>\n",
       "    <tr>\n",
       "      <th>192</th>\n",
       "      <td>4/29/2020</td>\n",
       "      <td>Netherlands</td>\n",
       "      <td>5</td>\n",
       "      <td>0</td>\n",
       "      <td>0</td>\n",
       "    </tr>\n",
       "    <tr>\n",
       "      <th>194</th>\n",
       "      <td>4/29/2020</td>\n",
       "      <td>UK</td>\n",
       "      <td>6</td>\n",
       "      <td>1</td>\n",
       "      <td>3</td>\n",
       "    </tr>\n",
       "    <tr>\n",
       "      <th>203</th>\n",
       "      <td>4/29/2020</td>\n",
       "      <td>Canada</td>\n",
       "      <td>0</td>\n",
       "      <td>1</td>\n",
       "      <td>0</td>\n",
       "    </tr>\n",
       "    <tr>\n",
       "      <th>272</th>\n",
       "      <td>4/29/2020</td>\n",
       "      <td>Canada</td>\n",
       "      <td>5</td>\n",
       "      <td>0</td>\n",
       "      <td>0</td>\n",
       "    </tr>\n",
       "    <tr>\n",
       "      <th>284</th>\n",
       "      <td>4/29/2020</td>\n",
       "      <td>Canada</td>\n",
       "      <td>0</td>\n",
       "      <td>0</td>\n",
       "      <td>20327</td>\n",
       "    </tr>\n",
       "    <tr>\n",
       "      <th>285</th>\n",
       "      <td>4/29/2020</td>\n",
       "      <td>US</td>\n",
       "      <td>0</td>\n",
       "      <td>0</td>\n",
       "      <td>120720</td>\n",
       "    </tr>\n",
       "    <tr>\n",
       "      <th>288</th>\n",
       "      <td>4/29/2020</td>\n",
       "      <td>France</td>\n",
       "      <td>6</td>\n",
       "      <td>0</td>\n",
       "      <td>6</td>\n",
       "    </tr>\n",
       "    <tr>\n",
       "      <th>289</th>\n",
       "      <td>4/29/2020</td>\n",
       "      <td>France</td>\n",
       "      <td>1</td>\n",
       "      <td>0</td>\n",
       "      <td>0</td>\n",
       "    </tr>\n",
       "    <tr>\n",
       "      <th>305</th>\n",
       "      <td>4/29/2020</td>\n",
       "      <td>Mainland China</td>\n",
       "      <td>1</td>\n",
       "      <td>0</td>\n",
       "      <td>1</td>\n",
       "    </tr>\n",
       "  </tbody>\n",
       "</table>\n",
       "</div>"
      ],
      "text/plain": [
       "          Date                 Region  Confirmed  Deaths  Recovered\n",
       "18   4/29/2020                 Bhutan          7       0          5\n",
       "59   4/29/2020                 Gambia         10       1          8\n",
       "70   4/29/2020               Holy See         10       0          2\n",
       "98   4/29/2020             MS Zaandam          9       2          0\n",
       "105  4/29/2020             Mauritania          8       1          6\n",
       "126  4/29/2020       Papua New Guinea          8       0          0\n",
       "140  4/29/2020  Sao Tome and Principe          8       0          4\n",
       "156  4/29/2020               Suriname         10       1          8\n",
       "177  4/29/2020         Western Sahara          6       0          5\n",
       "178  4/29/2020                  Yemen          6       0          1\n",
       "184  4/29/2020                     UK          3       0          3\n",
       "192  4/29/2020            Netherlands          5       0          0\n",
       "194  4/29/2020                     UK          6       1          3\n",
       "203  4/29/2020                 Canada          0       1          0\n",
       "272  4/29/2020                 Canada          5       0          0\n",
       "284  4/29/2020                 Canada          0       0      20327\n",
       "285  4/29/2020                     US          0       0     120720\n",
       "288  4/29/2020                 France          6       0          6\n",
       "289  4/29/2020                 France          1       0          0\n",
       "305  4/29/2020         Mainland China          1       0          1"
      ]
     },
     "execution_count": 62,
     "metadata": {},
     "output_type": "execute_result"
    }
   ],
   "source": [
    "df_less_than_10=df[df[\"Confirmed\"]<=10]\n",
    "df_less_than_10"
   ]
  },
  {
   "cell_type": "code",
   "execution_count": null,
   "id": "2eb76ffb",
   "metadata": {},
   "outputs": [],
   "source": [
    "#  Top ten mostly affetcted countries in the world"
   ]
  },
  {
   "cell_type": "code",
   "execution_count": 101,
   "id": "1504449c",
   "metadata": {},
   "outputs": [
    {
     "data": {
      "image/png": "[encoded data removed]",
      "text/plain": [
       "<Figure size 640x480 with 1 Axes>"
      ]
     },
     "metadata": {},
     "output_type": "display_data"
    }
   ],
   "source": [
    "import matplotlib.pyplot as plt\n",
    "\n",
    "df_mostly_affected_countries = df.groupby(\"Region\")[\"Confirmed\"].sum()\n",
    "sorted_countries = df_mostly_affected_countries.sort_values(ascending=False)\n",
    "top_10_countries = sorted_countries.head(10)\n",
    "\n",
    "# Plotting the bar chart\n",
    "plt.bar(top_10_countries.index, top_10_countries)\n",
    "plt.xlabel(\"Region\")\n",
    "plt.ylabel(\"Total Confirmed Cases\")\n",
    "plt.title(\"Top 10 Most Affected Regions by Total Confirmed Cases\")\n",
    "# Adjust the x-axis labels if needed\n",
    "plt.xticks(rotation=45)\n",
    "\n",
    "# Display the bar chart\n",
    "plt.show()\n"
   ]
  },
  {
   "cell_type": "code",
   "execution_count": null,
   "id": "52425ce7",
   "metadata": {},
   "outputs": [],
   "source": [
    "#  Name top 3 Regions, maximum number of Confirmed cases were recorded ?"
   ]
  },
  {
   "cell_type": "code",
   "execution_count": 102,
   "id": "01843cdc",
   "metadata": {},
   "outputs": [
    {
     "data": {
      "text/plain": [
       "Region\n",
       "US       1039909\n",
       "Spain     236899\n",
       "Italy     203591\n",
       "Name: Confirmed, dtype: int64"
      ]
     },
     "execution_count": 102,
     "metadata": {},
     "output_type": "execute_result"
    }
   ],
   "source": [
    "\n",
    "df_mostly_affected_countries = df.groupby(\"Region\")[\"Confirmed\"].sum()\n",
    "sorted_countries = df_mostly_affected_countries.sort_values(ascending=False)\n",
    "top_3_countries = sorted_countries.head(3)\n",
    "top_3_countries"
   ]
  },
  {
   "cell_type": "code",
   "execution_count": null,
   "id": "f54ea977",
   "metadata": {},
   "outputs": [],
   "source": [
    "#  In which Region, minimum number of Recovered cases were recorded ?"
   ]
  },
  {
   "cell_type": "code",
   "execution_count": 110,
   "id": "18e6c055",
   "metadata": {},
   "outputs": [
    {
     "data": {
      "text/plain": [
       "Region\n",
       "Papua New Guinea    0\n",
       "South Sudan         0\n",
       "MS Zaandam          0\n",
       "Yemen               1\n",
       "Cabo Verde          2\n",
       "Name: Recovered, dtype: int64"
      ]
     },
     "execution_count": 110,
     "metadata": {},
     "output_type": "execute_result"
    }
   ],
   "source": [
    "df_recovered=df.groupby(\"Region\")[\"Recovered\"].sum()\n",
    "df_recovered_minimun=df_recovered.sort_values(ascending=True).head()\n",
    "df_recovered_minimun"
   ]
  },
  {
   "cell_type": "code",
   "execution_count": null,
   "id": "4e0a4cd6",
   "metadata": {},
   "outputs": [],
   "source": [
    "#  How many Confirmed, Deaths & Recovered cases were reported from France till 29 April 2020 ?"
   ]
  },
  {
   "cell_type": "code",
   "execution_count": 123,
   "id": "b3a281b5",
   "metadata": {},
   "outputs": [
    {
     "data": {
      "text/plain": [
       "166543"
      ]
     },
     "execution_count": 123,
     "metadata": {},
     "output_type": "execute_result"
    }
   ],
   "source": [
    "df_france = df[(df[\"Region\"] == 'France')]\n",
    "df_france[\"Confirmed\"].sum()"
   ]
  },
  {
   "cell_type": "code",
   "execution_count": null,
   "id": "29341f51",
   "metadata": {},
   "outputs": [],
   "source": [
    "#  Sort the entire data wrt No. of Confirmed cases in ascending order."
   ]
  },
  {
   "cell_type": "code",
   "execution_count": 124,
   "id": "195d6156",
   "metadata": {},
   "outputs": [
    {
     "data": {
      "text/plain": [
       "Region\n",
       "Yemen                          6\n",
       "Western Sahara                 6\n",
       "Bhutan                         7\n",
       "Papua New Guinea               8\n",
       "Sao Tome and Principe          8\n",
       "                          ...   \n",
       "UK                        166441\n",
       "France                    166543\n",
       "Italy                     203591\n",
       "Spain                     236899\n",
       "US                       1039909\n",
       "Name: Confirmed, Length: 187, dtype: int64"
      ]
     },
     "execution_count": 124,
     "metadata": {},
     "output_type": "execute_result"
    }
   ],
   "source": [
    "df_mostly_affected_countries = df.groupby(\"Region\")[\"Confirmed\"].sum()\n",
    "sorted_countries = df_mostly_affected_countries.sort_values(ascending=True)\n",
    "sorted_countries"
   ]
  },
  {
   "cell_type": "code",
   "execution_count": null,
   "id": "0ccc3d27",
   "metadata": {},
   "outputs": [],
   "source": [
    "# Sort the entire data wrt No. of Recovered cases in descending order."
   ]
  },
  {
   "cell_type": "code",
   "execution_count": 5,
   "id": "647b5bae",
   "metadata": {},
   "outputs": [
    {
     "data": {
      "text/plain": [
       "Region\n",
       "Spain               132929\n",
       "US                  120720\n",
       "Germany             120400\n",
       "Mainland China       77610\n",
       "Iran                 73791\n",
       "                     ...  \n",
       "Cabo Verde               2\n",
       "Yemen                    1\n",
       "South Sudan              0\n",
       "Papua New Guinea         0\n",
       "MS Zaandam               0\n",
       "Name: Recovered, Length: 187, dtype: int64"
      ]
     },
     "execution_count": 5,
     "metadata": {},
     "output_type": "execute_result"
    }
   ],
   "source": [
    "df_mostly_affected_countries = df.groupby(\"Region\")[\"Recovered\"].sum()\n",
    "sorted_countries = df_mostly_affected_countries.sort_values(ascending=False)\n",
    "sorted_countries"
   ]
  }
 ],
 "metadata": {
  "kernelspec": {
   "display_name": "Python 3 (ipykernel)",
   "language": "python",
   "name": "python3"
  },
  "language_info": {
   "codemirror_mode": {
    "name": "ipython",
    "version": 3
   },
   "file_extension": ".py",
   "mimetype": "text/x-python",
   "name": "python",
   "nbconvert_exporter": "python",
   "pygments_lexer": "ipython3",
   "version": "3.11.3"
  }
 },
 "nbformat": 4,
 "nbformat_minor": 5
}
